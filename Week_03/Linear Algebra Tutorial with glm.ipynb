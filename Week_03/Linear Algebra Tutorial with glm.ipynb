{
 "cells": [
  {
   "cell_type": "markdown",
   "metadata": {},
   "source": [
    "# Linear Algebra Tutorial"
   ]
  },
  {
   "cell_type": "code",
   "execution_count": null,
   "metadata": {},
   "outputs": [],
   "source": [
    "import numpy as np\n",
    "import pandas as pd\n",
    "import glm\n",
    "import math as m"
   ]
  },
  {
   "cell_type": "markdown",
   "metadata": {},
   "source": [
    "# Points, Scalars, and Vectors\n",
    "## Implementing with glm"
   ]
  },
  {
   "cell_type": "code",
   "execution_count": null,
   "metadata": {},
   "outputs": [],
   "source": [
    "# กำหนดให้ P เป็นพิกัดที่ตำแหน่ง (1, 2, 3)\n",
    "P = glm.vec3(1, 2, 3)\n",
    "\n",
    "# กำหนดให้ v เป็นเวกเตอร์ที่มีค่าเป็น (0, 1, 0)\n",
    "v = glm.vec3(0, 1, 0)"
   ]
  },
  {
   "cell_type": "code",
   "execution_count": null,
   "metadata": {},
   "outputs": [],
   "source": [
    "P = glm.vec3(1, 2, 3)\n",
    "Q = glm.vec3(1, 1, 2)\n",
    "\n",
    "u = P - Q\n",
    "u"
   ]
  },
  {
   "cell_type": "code",
   "execution_count": null,
   "metadata": {},
   "outputs": [],
   "source": [
    "glm.value_ptr(u)"
   ]
  },
  {
   "cell_type": "code",
   "execution_count": null,
   "metadata": {},
   "outputs": [],
   "source": [
    "a = glm.vec3(2, 5, 6)\n",
    "b = glm.vec3(-2, 7, 1)\n",
    "a + b"
   ]
  },
  {
   "cell_type": "code",
   "execution_count": null,
   "metadata": {},
   "outputs": [],
   "source": [
    "s = 6\n",
    "s * a"
   ]
  },
  {
   "cell_type": "code",
   "execution_count": null,
   "metadata": {},
   "outputs": [],
   "source": [
    "a = glm.vec3(2, 3, 1)\n",
    "b = glm.vec3(0, 4, -1)\n",
    "glm.dot(a, b)"
   ]
  },
  {
   "cell_type": "code",
   "execution_count": null,
   "metadata": {},
   "outputs": [],
   "source": [
    "a = glm.vec3(1, m.sqrt(3), 0)\n",
    "b = glm.vec3(1, 0, 0)\n",
    "unit_a = a / glm.length(a)\n",
    "unit_b = b / glm.length(b)"
   ]
  },
  {
   "cell_type": "code",
   "execution_count": null,
   "metadata": {},
   "outputs": [],
   "source": [
    "glm.length(unit_a), glm.length(unit_b)"
   ]
  },
  {
   "cell_type": "code",
   "execution_count": null,
   "metadata": {},
   "outputs": [],
   "source": [
    "theta = m.acos(glm.dot(unit_a, unit_b))\n",
    "theta"
   ]
  },
  {
   "cell_type": "code",
   "execution_count": null,
   "metadata": {},
   "outputs": [],
   "source": [
    "glm.dot(unit_a, unit_b), m.cos(theta)"
   ]
  },
  {
   "cell_type": "code",
   "execution_count": null,
   "metadata": {},
   "outputs": [],
   "source": [
    "theta / m.pi * 180"
   ]
  },
  {
   "cell_type": "code",
   "execution_count": null,
   "metadata": {},
   "outputs": [],
   "source": [
    "a = glm.vec3(1, 0, 0)\n",
    "b = glm.vec3(0, 1, 0)\n",
    "\n",
    "glm.cross(a, b)"
   ]
  },
  {
   "cell_type": "code",
   "execution_count": null,
   "metadata": {},
   "outputs": [],
   "source": [
    "L = glm.vec3(1, 0, 0)\n",
    "N = glm.vec3(0, 1, 0)\n",
    "\n",
    "R = 2 * glm.dot(L, N) * N - L\n",
    "R"
   ]
  }
 ],
 "metadata": {
  "kernelspec": {
   "display_name": "gpu",
   "language": "python",
   "name": "gpu"
  },
  "language_info": {
   "codemirror_mode": {
    "name": "ipython",
    "version": 3
   },
   "file_extension": ".py",
   "mimetype": "text/x-python",
   "name": "python",
   "nbconvert_exporter": "python",
   "pygments_lexer": "ipython3",
   "version": "3.10.12"
  }
 },
 "nbformat": 4,
 "nbformat_minor": 4
}
